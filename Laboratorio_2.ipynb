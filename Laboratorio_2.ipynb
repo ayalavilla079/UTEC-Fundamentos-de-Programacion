{
  "nbformat": 4,
  "nbformat_minor": 0,
  "metadata": {
    "colab": {
      "provenance": [],
      "include_colab_link": true
    },
    "kernelspec": {
      "name": "python3",
      "display_name": "Python 3"
    },
    "language_info": {
      "name": "python"
    }
  },
  "cells": [
    {
      "cell_type": "markdown",
      "metadata": {
        "id": "view-in-github",
        "colab_type": "text"
      },
      "source": [
        "<a href=\"https://colab.research.google.com/github/ayalavilla079/UTEC-Fundamentos-de-Programacion/blob/main/Laboratorio_2.ipynb\" target=\"_parent\"><img src=\"https://colab.research.google.com/assets/colab-badge.svg\" alt=\"Open In Colab\"/></a>"
      ]
    },
    {
      "cell_type": "markdown",
      "source": [
        "<img src=\"https://www.ctic.uni.edu.pe/wp-content/uploads/2022/04/588px-x-348px-web-1.png\" alt=\"HTML5 Icon\" width=\"900\" height=\"350\" >\n"
      ],
      "metadata": {
        "id": "Mhpi9rexZdTl"
      }
    },
    {
      "cell_type": "markdown",
      "source": [
        "# **Estructuras de Control Repetitivas**"
      ],
      "metadata": {
        "id": "YFMF2RW9D495"
      }
    },
    {
      "cell_type": "markdown",
      "source": [
        "---\n",
        "\n",
        "**Introducción**\n",
        "\n",
        "Las estructuras de control repetitivas, comúnmente conocidas como *bucles*, permiten ejecutar un bloque de código múltiples veces. Son esenciales para automatizar tareas repetitivas y manejar colecciones de datos. En Python, las estructuras de control repetitivas principales son while y for.\n",
        "\n",
        "Este laboratorio te guiará a través de las estructuras de control repetitivas en Python con explicaciones detalladas, ejemplos y ejercicios prácticos para reforzar tu aprendizaje."
      ],
      "metadata": {
        "id": "oh6gXsC9EHTv"
      }
    },
    {
      "cell_type": "markdown",
      "source": [
        "**Contenido**\n",
        "\n",
        "- 1. Sentencia while\n",
        "- 2. Sentencia for\n",
        "- 3. Iterando sobre colecciones\n",
        "- 4. Declaraciones break y continue\n",
        "- 5. Bucles anidados\n"
      ],
      "metadata": {
        "id": "X7qx0IkrEWXK"
      }
    },
    {
      "cell_type": "markdown",
      "source": [
        "## 1. Sentencia while\n"
      ],
      "metadata": {
        "id": "IRd4RsIYE2AC"
      }
    },
    {
      "cell_type": "markdown",
      "source": [
        "**Sintaxis**\n",
        "\n",
        "El bucle while ejecuta un bloque de código mientras una condición sea verdadera."
      ],
      "metadata": {
        "id": "EgtO9UAlE61s"
      }
    },
    {
      "cell_type": "code",
      "execution_count": null,
      "metadata": {
        "id": "oJYtkClHD4Rp"
      },
      "outputs": [],
      "source": [
        "while condition:\n",
        "    # Bloque de código a ejecutar repetidamente\n"
      ]
    },
    {
      "cell_type": "markdown",
      "source": [
        "**Ejemplo 1:** Contar de 1 a 5"
      ],
      "metadata": {
        "id": "ONDzwszQFLB3"
      }
    },
    {
      "cell_type": "code",
      "source": [
        "contador = 1\n",
        "\n",
        "while contador <= 5:\n",
        "    print(contador)\n",
        "    contador += 1"
      ],
      "metadata": {
        "id": "lrVZrCTLFJml",
        "outputId": "6c199850-cbc9-4120-b176-addc0b45029f",
        "colab": {
          "base_uri": "https://localhost:8080/"
        }
      },
      "execution_count": null,
      "outputs": [
        {
          "output_type": "stream",
          "name": "stdout",
          "text": [
            "1\n",
            "2\n",
            "3\n",
            "4\n",
            "5\n"
          ]
        }
      ]
    },
    {
      "cell_type": "markdown",
      "source": [
        "**Ejemplo 2:** Solicitar al usuario una contraseña"
      ],
      "metadata": {
        "id": "Zny7nfmHGJqB"
      }
    },
    {
      "cell_type": "code",
      "source": [
        "contraseña = ''\n",
        "\n",
        "while contraseña != 'secreto':\n",
        "    contraseña = input('Introduce la contraseña: ')\n",
        "print('¡Contraseña correcta!')\n"
      ],
      "metadata": {
        "id": "3c2nrwndHg55",
        "outputId": "09a1b216-eb89-48a2-bb91-ed80a816daeb",
        "colab": {
          "base_uri": "https://localhost:8080/"
        }
      },
      "execution_count": null,
      "outputs": [
        {
          "output_type": "stream",
          "name": "stdout",
          "text": [
            "Introduce la contraseña: secret\n",
            "Introduce la contraseña: secreto\n",
            "¡Contraseña correcta!\n"
          ]
        }
      ]
    },
    {
      "cell_type": "code",
      "source": [],
      "metadata": {
        "id": "1CU0-hNBO2-a"
      },
      "execution_count": null,
      "outputs": []
    },
    {
      "cell_type": "markdown",
      "source": [
        "**Ejemplo 3:** Solicitar al usuario una contraseña y que la cuenta se bloquee tras superar los tres intentos"
      ],
      "metadata": {
        "id": "wr0g95I0Hk_a"
      }
    },
    {
      "cell_type": "code",
      "source": [
        "contraseña = ''\n",
        "contador = 0\n",
        "\n",
        "while contraseña != 'secreto':\n",
        "    if contador <= 3:\n",
        "        contraseña = input('Introduce la contraseña: ')\n",
        "        contador += 1\n",
        "    else:\n",
        "        print('cuenta bloqueada!')\n",
        "        break\n",
        "\n",
        "if contador <= 3:\n",
        "    print('¡Contraseña correcta!')\n"
      ],
      "metadata": {
        "id": "kcMZzz2iGSHV",
        "outputId": "f6d4426c-6c63-402c-c203-bd44212a0ba6",
        "colab": {
          "base_uri": "https://localhost:8080/"
        }
      },
      "execution_count": null,
      "outputs": [
        {
          "output_type": "stream",
          "name": "stdout",
          "text": [
            "Introduce la contraseña: rem\n",
            "Introduce la contraseña: rem\n",
            "Introduce la contraseña: rem\n",
            "Introduce la contraseña: rem\n",
            "cuenta bloqueada!\n"
          ]
        }
      ]
    },
    {
      "cell_type": "code",
      "source": [
        "contraseña = ''\n",
        "contador = 1\n",
        "\n",
        "while contraseña != 'Real Madrid':\n",
        "    contraseña = input('Introduce la contraseña: ')\n",
        "    contador += 1\n",
        "    if contador > 3:\n",
        "      print(\"Se bloqueo el acceso\")\n",
        "      break\n",
        "if contador <= 3:\n",
        "    print(\"Contraseña correcta\")"
      ],
      "metadata": {
        "id": "DNV6xNuvPGw6",
        "outputId": "9bac29b3-03d6-46d8-edce-097cfe694b71",
        "colab": {
          "base_uri": "https://localhost:8080/"
        }
      },
      "execution_count": null,
      "outputs": [
        {
          "output_type": "stream",
          "name": "stdout",
          "text": [
            "Introduce la contraseña: real madrid\n",
            "Introduce la contraseña: madrid\n",
            "Introduce la contraseña: barcelona\n",
            "Se bloqueo el acceso\n"
          ]
        }
      ]
    },
    {
      "cell_type": "markdown",
      "source": [
        "**Ejercicios**"
      ],
      "metadata": {
        "id": "rwCut2iyGQpo"
      }
    },
    {
      "cell_type": "markdown",
      "source": [
        "Contador decreciente: Escribe un programa que cuente de 10 hacia 1 usando un bucle while."
      ],
      "metadata": {
        "id": "CX3w3V8xJe8c"
      }
    },
    {
      "cell_type": "code",
      "source": [
        "contador = 10\n",
        "\n",
        "while contador >= 1:\n",
        "    print(contador)\n",
        "    contador -= 1\n"
      ],
      "metadata": {
        "id": "r_V8GaQOI2H3",
        "outputId": "435df848-e10a-47f8-e6e8-6b5d6637bfc7",
        "colab": {
          "base_uri": "https://localhost:8080/"
        }
      },
      "execution_count": null,
      "outputs": [
        {
          "output_type": "stream",
          "name": "stdout",
          "text": [
            "10\n",
            "9\n",
            "8\n",
            "7\n",
            "6\n",
            "5\n",
            "4\n",
            "3\n",
            "2\n",
            "1\n"
          ]
        }
      ]
    },
    {
      "cell_type": "markdown",
      "source": [
        "Suma de números: Solicita al usuario números enteros y acumula la suma hasta que el usuario ingrese 0. Luego muestra la suma total."
      ],
      "metadata": {
        "id": "fncRlKXgJitG"
      }
    },
    {
      "cell_type": "code",
      "source": [
        "sumatoria = 0\n",
        "\n",
        "while True:\n",
        "    numero = int(input(\"Ingresa un número entero (0 para terminar): \"))\n",
        "    if numero == 0:\n",
        "      break\n",
        "    sumatoria += numero\n",
        "\n",
        "print(\"La suma total es\", sumatoria)"
      ],
      "metadata": {
        "id": "e0BXlSAsJpGW",
        "outputId": "2c5fa2f6-41c1-4048-a6a3-a528e43c8c0c",
        "colab": {
          "base_uri": "https://localhost:8080/"
        }
      },
      "execution_count": null,
      "outputs": [
        {
          "output_type": "stream",
          "name": "stdout",
          "text": [
            "Ingresa un número entero (0 para terminar): 0\n",
            "La suma total es 0\n"
          ]
        }
      ]
    },
    {
      "cell_type": "code",
      "source": [
        "sumatoria = 0\n",
        "numero = ''\n",
        "\n",
        "while numero != 0:\n",
        "    numero = int(input(\"Ingrese el número entero: \"))\n",
        "    sumatoria += numero\n",
        "\n",
        "print(f'La suma total es {sumatoria}')"
      ],
      "metadata": {
        "id": "b3NYRJojRZqZ",
        "outputId": "0930e8f9-d428-48c1-c439-1ccbd27da0d6",
        "colab": {
          "base_uri": "https://localhost:8080/"
        }
      },
      "execution_count": null,
      "outputs": [
        {
          "output_type": "stream",
          "name": "stdout",
          "text": [
            "Ingrese el número entero: 0\n",
            "La suma total es 0\n"
          ]
        }
      ]
    },
    {
      "cell_type": "markdown",
      "source": [
        "Adivinar el número: Genera un número aleatorio entre 1 y 100. El usuario debe adivinar el número, y el programa debe indicar si el número ingresado es mayor o menor que el número secreto. El bucle termina cuando el usuario acierta.\n"
      ],
      "metadata": {
        "id": "wZjHXxr5JlSp"
      }
    },
    {
      "cell_type": "code",
      "source": [
        "number = \"\"\n",
        "secret_number = 48\n",
        "while number != secret_number:\n",
        "    number = int(input(\"Ingrese un número aleatorio entre 1 y 100: \"))\n",
        "    if number > secret_number:\n",
        "      print(\"El número ingresado es mayor que el número secreto\")\n",
        "    elif number < secret_number:\n",
        "      print(\"El número ingresado es menor que el número secreto\")\n",
        "    else:\n",
        "      print(\"Felicidades, Adivinaste el número secreto\")\n",
        "      break\n"
      ],
      "metadata": {
        "id": "GDOB2-oBJowQ",
        "outputId": "b5d33709-75b3-417b-b241-89e7a7f993b8",
        "colab": {
          "base_uri": "https://localhost:8080/"
        }
      },
      "execution_count": null,
      "outputs": [
        {
          "output_type": "stream",
          "name": "stdout",
          "text": [
            "Ingrese un número aleatorio entre 1 y 100: 38\n",
            "El número ingresado es menor que el número secreto\n",
            "Ingrese un número aleatorio entre 1 y 100: 42\n",
            "El número ingresado es menor que el número secreto\n",
            "Ingrese un número aleatorio entre 1 y 100: 48\n",
            "Felicidades, Adivinaste el número secreto\n"
          ]
        }
      ]
    },
    {
      "cell_type": "markdown",
      "source": [
        "\n",
        "Número par: Solicita al usuario que ingrese un número par. Si el usuario ingresa un número impar, debe volver a solicitar el número hasta que ingrese un número par."
      ],
      "metadata": {
        "id": "pxQ-90lkJnE8"
      }
    },
    {
      "cell_type": "code",
      "source": [
        "while True:\n",
        "    number = int(input('Ingrese un número par: '))\n",
        "    if number % 2 == 0:\n",
        "      print(\"Correcto, usted ingreso un número par\")\n",
        "      break\n",
        "    else:\n",
        "      print(\"El número ingresado no es un número par, intente de nuevo\")\n"
      ],
      "metadata": {
        "id": "dmJCXUOQJn__",
        "outputId": "c5d4cf40-c212-4abc-fa80-ce0cc8c1b543",
        "colab": {
          "base_uri": "https://localhost:8080/"
        }
      },
      "execution_count": null,
      "outputs": [
        {
          "output_type": "stream",
          "name": "stdout",
          "text": [
            "Ingrese un número par: 11\n",
            "El número ingreso no es un número par, intente de nuevo\n",
            "Ingrese un número par: 2\n",
            "Correcto, usted ingreso un número par\n"
          ]
        }
      ]
    },
    {
      "cell_type": "markdown",
      "source": [
        "\n",
        "\n",
        "\n",
        "\n",
        "Factorial con while: Calcula el factorial de un número ingresado por el usuario utilizando un bucle while."
      ],
      "metadata": {
        "id": "otUb4NT2JdA2"
      }
    },
    {
      "cell_type": "code",
      "source": [
        "factorial = 1\n",
        "numero = int(input(\"Ingrese el número del cual desee calcular su factorial: \"))\n",
        "\n",
        "if numero < 0:\n",
        "    print(\"El factorial no está definido para números negativos.\")\n",
        "elif numero == 0:\n",
        "    print(\"El factorial de 0 es 1.\")\n",
        "else:\n",
        "    numero_inicial = numero\n",
        "    while numero >= 2:\n",
        "        factorial *= numero\n",
        "        numero -= 1\n",
        "    print(f'El factorial de {numero_inicial} es {factorial}')"
      ],
      "metadata": {
        "id": "Ss5egYmdJnn0",
        "outputId": "61460d56-66d1-4922-e766-35dab4128331",
        "colab": {
          "base_uri": "https://localhost:8080/"
        }
      },
      "execution_count": null,
      "outputs": [
        {
          "output_type": "stream",
          "name": "stdout",
          "text": [
            "Ingrese el número del cual desee calcular su factorial: 3\n",
            "El factorial de 3 es 6\n"
          ]
        }
      ]
    },
    {
      "cell_type": "markdown",
      "source": [
        "## 2. Sentencias for"
      ],
      "metadata": {
        "id": "CaXL4I22J2ee"
      }
    },
    {
      "cell_type": "markdown",
      "source": [
        "**Sintaxis**\n",
        "\n",
        "El bucle for itera sobre una secuencia (como una lista, tupla, cadena o rango de números)."
      ],
      "metadata": {
        "id": "XZdKohcGJ7_R"
      }
    },
    {
      "cell_type": "code",
      "source": [
        "for elemento in secuencia:\n",
        "    # Bloque de código a ejecutar por cada elemento\n"
      ],
      "metadata": {
        "id": "fJozmBCYKBOi",
        "outputId": "869d10a4-fff6-4ad8-ce9e-d45266f44587",
        "colab": {
          "base_uri": "https://localhost:8080/",
          "height": 106
        }
      },
      "execution_count": null,
      "outputs": [
        {
          "output_type": "error",
          "ename": "SyntaxError",
          "evalue": "incomplete input (<ipython-input-19-b8362a9bd4bd>, line 2)",
          "traceback": [
            "\u001b[0;36m  File \u001b[0;32m\"<ipython-input-19-b8362a9bd4bd>\"\u001b[0;36m, line \u001b[0;32m2\u001b[0m\n\u001b[0;31m    # Bloque de código a ejecutar por cada elemento\u001b[0m\n\u001b[0m                                                   ^\u001b[0m\n\u001b[0;31mSyntaxError\u001b[0m\u001b[0;31m:\u001b[0m incomplete input\n"
          ]
        }
      ]
    },
    {
      "cell_type": "markdown",
      "source": [
        "Ejemplo con lista:"
      ],
      "metadata": {
        "id": "2bleRpoCMpQ7"
      }
    },
    {
      "cell_type": "code",
      "source": [
        "frutas = ['manzana', 'banana', 'cereza']\n",
        "\n",
        "for fruta in frutas:\n",
        "    print(fruta)"
      ],
      "metadata": {
        "id": "b_51Ng0_MsTb",
        "outputId": "b3acd83d-fbfb-4e29-db51-3a4ff13d9a44",
        "colab": {
          "base_uri": "https://localhost:8080/"
        }
      },
      "execution_count": null,
      "outputs": [
        {
          "output_type": "stream",
          "name": "stdout",
          "text": [
            "manzana\n",
            "banana\n",
            "cereza\n"
          ]
        }
      ]
    },
    {
      "cell_type": "code",
      "source": [
        "my_list = ['hola', 1, 'python']\n",
        "type(my_list)"
      ],
      "metadata": {
        "id": "1vIYeeCbOChm",
        "outputId": "7b3e255f-1020-494d-d242-3721b94b53ba",
        "colab": {
          "base_uri": "https://localhost:8080/"
        }
      },
      "execution_count": null,
      "outputs": [
        {
          "output_type": "execute_result",
          "data": {
            "text/plain": [
              "list"
            ]
          },
          "metadata": {},
          "execution_count": 22
        }
      ]
    },
    {
      "cell_type": "markdown",
      "source": [
        "Ejemplo con cadena:\n",
        "\n"
      ],
      "metadata": {
        "id": "Ltn9YYtkN8W4"
      }
    },
    {
      "cell_type": "code",
      "source": [
        "palabra = 'Python'\n",
        "\n",
        "for letra in palabra:\n",
        "    print(letra)\n"
      ],
      "metadata": {
        "id": "-_Kju3etN96C",
        "outputId": "812500d1-5e84-4eef-93ea-51e69f47a846",
        "colab": {
          "base_uri": "https://localhost:8080/"
        }
      },
      "execution_count": null,
      "outputs": [
        {
          "output_type": "stream",
          "name": "stdout",
          "text": [
            "P\n",
            "y\n",
            "t\n",
            "h\n",
            "o\n",
            "n\n"
          ]
        }
      ]
    },
    {
      "cell_type": "code",
      "source": [
        "# my_list = [1, 2, 3, 4, 5, 6, 7 , ............., 1000]"
      ],
      "metadata": {
        "id": "fwgy4gYLOtUX"
      },
      "execution_count": null,
      "outputs": []
    },
    {
      "cell_type": "markdown",
      "source": [
        "**La función range()**\n",
        "\n",
        "range() genera una secuencia de números.\n",
        "\n"
      ],
      "metadata": {
        "id": "X9Zuid7iOqtx"
      }
    },
    {
      "cell_type": "markdown",
      "source": [
        "range(n) genera números de 0 a n-1.\n"
      ],
      "metadata": {
        "id": "w2km5V_gO7_A"
      }
    },
    {
      "cell_type": "code",
      "source": [
        "for x in range(11):\n",
        "  print(x)"
      ],
      "metadata": {
        "id": "owZzmkw4OqMU",
        "outputId": "e9554e17-fbd8-4a38-f8cd-970e1a7a6237",
        "colab": {
          "base_uri": "https://localhost:8080/"
        }
      },
      "execution_count": null,
      "outputs": [
        {
          "output_type": "stream",
          "name": "stdout",
          "text": [
            "0\n",
            "1\n",
            "2\n",
            "3\n",
            "4\n",
            "5\n",
            "6\n",
            "7\n",
            "8\n",
            "9\n",
            "10\n"
          ]
        }
      ]
    },
    {
      "cell_type": "markdown",
      "source": [
        "range(inicio, fin) genera números desde inicio hasta fin-1.\n"
      ],
      "metadata": {
        "id": "EDKmBGxDO94n"
      }
    },
    {
      "cell_type": "code",
      "source": [
        "for x in range(10, 21):\n",
        "  print(x)"
      ],
      "metadata": {
        "id": "eMzXfuRmPpbT",
        "outputId": "e8eecb4d-ea7c-43d5-85d1-af8e083d63d5",
        "colab": {
          "base_uri": "https://localhost:8080/"
        }
      },
      "execution_count": null,
      "outputs": [
        {
          "output_type": "stream",
          "name": "stdout",
          "text": [
            "10\n",
            "11\n",
            "12\n",
            "13\n",
            "14\n",
            "15\n",
            "16\n",
            "17\n",
            "18\n",
            "19\n",
            "20\n"
          ]
        }
      ]
    },
    {
      "cell_type": "markdown",
      "source": [
        "range(inicio, fin, paso) permite especificar el incremento."
      ],
      "metadata": {
        "id": "6MB9QD7tPnzu"
      }
    },
    {
      "cell_type": "code",
      "source": [
        "for x in range(10, 31, 5):\n",
        "  print(x)"
      ],
      "metadata": {
        "id": "1OOlOftOP-59",
        "outputId": "dcb94303-e29b-4975-ba9a-20b34c375539",
        "colab": {
          "base_uri": "https://localhost:8080/"
        }
      },
      "execution_count": null,
      "outputs": [
        {
          "output_type": "stream",
          "name": "stdout",
          "text": [
            "10\n",
            "15\n",
            "20\n",
            "25\n",
            "30\n"
          ]
        }
      ]
    },
    {
      "cell_type": "markdown",
      "source": [
        "**Ejercicio**\n",
        "\n",
        "Imprima los múltiplos de 17 menores que 90"
      ],
      "metadata": {
        "id": "bM4PYrj1QTSu"
      }
    },
    {
      "cell_type": "code",
      "source": [
        "for y in range(0, 90, 17):\n",
        "  print(y)"
      ],
      "metadata": {
        "id": "Y7zV_O5uQeOb",
        "outputId": "4c2c787d-18fb-446d-b1dc-a7f8e5152832",
        "colab": {
          "base_uri": "https://localhost:8080/"
        }
      },
      "execution_count": null,
      "outputs": [
        {
          "output_type": "stream",
          "name": "stdout",
          "text": [
            "0\n",
            "17\n",
            "34\n",
            "51\n",
            "68\n",
            "85\n"
          ]
        }
      ]
    },
    {
      "cell_type": "markdown",
      "source": [
        "**Ejemplo 1:** Tabla de multiplicar del 5\n",
        "\n"
      ],
      "metadata": {
        "id": "ueVyfmWRRMhS"
      }
    },
    {
      "cell_type": "code",
      "source": [
        "for i in range(1, 11):\n",
        "    print(f'5 x {i} = {5 * i}')\n"
      ],
      "metadata": {
        "id": "YBklfoKqROhD",
        "outputId": "e789ebe7-267f-4d9b-8af7-b38fc084e611",
        "colab": {
          "base_uri": "https://localhost:8080/"
        }
      },
      "execution_count": null,
      "outputs": [
        {
          "output_type": "stream",
          "name": "stdout",
          "text": [
            "5 x 1 = 5\n",
            "5 x 2 = 10\n",
            "5 x 3 = 15\n",
            "5 x 4 = 20\n",
            "5 x 5 = 25\n",
            "5 x 6 = 30\n",
            "5 x 7 = 35\n",
            "5 x 8 = 40\n",
            "5 x 9 = 45\n",
            "5 x 10 = 50\n"
          ]
        }
      ]
    },
    {
      "cell_type": "markdown",
      "source": [
        "**Ejercicios**\n"
      ],
      "metadata": {
        "id": "moqmgv0JRtrn"
      }
    },
    {
      "cell_type": "markdown",
      "source": [
        "Números pares: Utiliza un bucle for y range() para imprimir todos los números pares entre 2 y 20.\n"
      ],
      "metadata": {
        "id": "AVb0eD_0RxMj"
      }
    },
    {
      "cell_type": "code",
      "source": [
        "for x in range(2, 21, 2):\n",
        " print(x)"
      ],
      "metadata": {
        "id": "2NjC7giqR5rB",
        "outputId": "4f756cf1-b82d-44b3-f1ca-f852e2b12754",
        "colab": {
          "base_uri": "https://localhost:8080/"
        }
      },
      "execution_count": null,
      "outputs": [
        {
          "output_type": "stream",
          "name": "stdout",
          "text": [
            "2\n",
            "4\n",
            "6\n",
            "8\n",
            "10\n",
            "12\n",
            "14\n",
            "16\n",
            "18\n",
            "20\n"
          ]
        }
      ]
    },
    {
      "cell_type": "markdown",
      "source": [
        "\n",
        "Sumar números en una lista: Dada una lista de números [3, 5, 2, 8, 1], calcula la suma total de los números usando un bucle for.\n"
      ],
      "metadata": {
        "id": "oL1cJT9ARyqk"
      }
    },
    {
      "cell_type": "code",
      "source": [
        "sumatoria = 0\n",
        "list = [3, 5, 2, 8, 1]\n",
        "\n",
        "for number in list:\n",
        "  sumatoria += number\n",
        "\n",
        "print('La suma total es', sumatoria)\n",
        "\n"
      ],
      "metadata": {
        "id": "QgUOl9o4R5-X",
        "outputId": "e1ef3a18-2ea8-42fb-b0ea-68e9224e416c",
        "colab": {
          "base_uri": "https://localhost:8080/"
        }
      },
      "execution_count": null,
      "outputs": [
        {
          "output_type": "stream",
          "name": "stdout",
          "text": [
            "La suma total es 19\n"
          ]
        }
      ]
    },
    {
      "cell_type": "markdown",
      "source": [
        "\n",
        "Contar vocales: Escribe un programa que cuente el número de vocales en una cadena ingresada por el usuario.\n"
      ],
      "metadata": {
        "id": "emCbOVVuRz58"
      }
    },
    {
      "cell_type": "code",
      "source": [
        "cadena =input(\"Ingrese el texto:  \")\n",
        "vocales = \"AEIOUaeiouÁÉÍÓÚáéíóú\"\n",
        "contador = 0\n",
        "\n",
        "for caracter in cadena:\n",
        "  if caracter in vocales:\n",
        "    contador += 1\n",
        "print(f'El número de vocales es {contador}')"
      ],
      "metadata": {
        "id": "zXhft1UTqgX6",
        "outputId": "474297d7-a98a-4513-89db-eed47ae696bf",
        "colab": {
          "base_uri": "https://localhost:8080/"
        }
      },
      "execution_count": 32,
      "outputs": [
        {
          "output_type": "stream",
          "name": "stdout",
          "text": [
            "Ingrese el texto:  La vaca eres tu\n",
            "El número de vocales es 6\n"
          ]
        }
      ]
    },
    {
      "cell_type": "markdown",
      "source": [
        "\n",
        "Tabla de multiplicar: Pide al usuario un número y genera su tabla de multiplicar del 1 al 10.\n"
      ],
      "metadata": {
        "id": "n4hug2yzR1JT"
      }
    },
    {
      "cell_type": "code",
      "source": [
        "numero = int(input(\"Usted quiere la tabla de multiplicar del número: \"))\n",
        "\n",
        "for i in range(1,11):\n",
        "  print(f'5 x {i} = {i*numero}')"
      ],
      "metadata": {
        "id": "Upm6bcxqR6na",
        "outputId": "5cae3167-7cdb-44e5-b888-fdd40364beea",
        "colab": {
          "base_uri": "https://localhost:8080/"
        }
      },
      "execution_count": null,
      "outputs": [
        {
          "output_type": "stream",
          "name": "stdout",
          "text": [
            "Usted quiere la tabla de multiplicar del número: 5\n",
            "5 x 1 = 5\n",
            "5 x 2 = 10\n",
            "5 x 3 = 15\n",
            "5 x 4 = 20\n",
            "5 x 5 = 25\n",
            "5 x 6 = 30\n",
            "5 x 7 = 35\n",
            "5 x 8 = 40\n",
            "5 x 9 = 45\n",
            "5 x 10 = 50\n"
          ]
        }
      ]
    },
    {
      "cell_type": "markdown",
      "source": [
        "\n",
        "Lista al revés: Dada una lista [1, 2, 3, 4, 5], utiliza un bucle for para imprimir los elementos en orden inverso.\n"
      ],
      "metadata": {
        "id": "kudWtM74R2dL"
      }
    },
    {
      "cell_type": "code",
      "source": [
        "list = [1, 2, 3, 4, 5]\n",
        "\n",
        "for i in range(len(list) - 1, -1, -1):\n",
        "  print(list[i])"
      ],
      "metadata": {
        "id": "0mLLKiv4R7VK",
        "outputId": "8ed1735b-e84c-482e-db3d-889b88385af9",
        "colab": {
          "base_uri": "https://localhost:8080/"
        }
      },
      "execution_count": null,
      "outputs": [
        {
          "output_type": "stream",
          "name": "stdout",
          "text": [
            "5\n",
            "4\n",
            "3\n",
            "2\n",
            "1\n"
          ]
        }
      ]
    },
    {
      "cell_type": "markdown",
      "source": [
        "\n",
        "Filtrar números: Dada una lista de números, crea una nueva lista que contenga solo los números mayores a 5.\n",
        "\n"
      ],
      "metadata": {
        "id": "_Pbnij8MR35V"
      }
    },
    {
      "cell_type": "code",
      "source": [
        "list = [1, 5, 52, 3, 2, 89]\n",
        "\n",
        "for i in list:\n",
        "  if i > 5:\n",
        "\n"
      ],
      "metadata": {
        "id": "sAc382R9R7ur"
      },
      "execution_count": null,
      "outputs": []
    },
    {
      "cell_type": "markdown",
      "source": [
        "Sumar dígitos de un número: Solicita al usuario un número entero y utiliza un bucle for para sumar todos sus dígitos."
      ],
      "metadata": {
        "id": "0KHiYWSVR5KK"
      }
    },
    {
      "cell_type": "code",
      "source": [],
      "metadata": {
        "id": "w816rgLoR8Co"
      },
      "execution_count": null,
      "outputs": []
    },
    {
      "cell_type": "markdown",
      "source": [
        "## 3. Declaraciones break y continue\n"
      ],
      "metadata": {
        "id": "CxqJMsCeVIF8"
      }
    },
    {
      "cell_type": "markdown",
      "source": [
        "**Uso de break**\n",
        "\n",
        "La declaración break termina el bucle inmediatamente."
      ],
      "metadata": {
        "id": "p5fArQDNVKl-"
      }
    },
    {
      "cell_type": "markdown",
      "source": [
        "Ejemplo"
      ],
      "metadata": {
        "id": "MIFX9u9RVPGz"
      }
    },
    {
      "cell_type": "code",
      "source": [
        "for i in range(1, 10):\n",
        "    if i == 5:\n",
        "        break\n",
        "    print(i)\n"
      ],
      "metadata": {
        "id": "G6tQ6Fv5VQef"
      },
      "execution_count": null,
      "outputs": []
    },
    {
      "cell_type": "markdown",
      "source": [
        "**Uso de continue**\n",
        "\n",
        "La declaración continue salta a la siguiente iteración del bucle."
      ],
      "metadata": {
        "id": "nlbsFmOXVYvR"
      }
    },
    {
      "cell_type": "code",
      "source": [
        "for i in range(1, 6):\n",
        "    if i == 3:\n",
        "        continue\n",
        "    print(i)\n"
      ],
      "metadata": {
        "id": "lJGO_f3RVesa"
      },
      "execution_count": null,
      "outputs": []
    },
    {
      "cell_type": "markdown",
      "source": [
        "**Ejemplos**\n",
        "\n",
        "Ejemplo 1: Encontrar un número en una lista"
      ],
      "metadata": {
        "id": "ftp9vqjzVrZg"
      }
    },
    {
      "cell_type": "code",
      "source": [
        "numeros = [1, 3, 5, 7, 9]\n",
        "buscado = 5\n",
        "\n",
        "for num in numeros:\n",
        "    if num == buscado:\n",
        "        print(f'Número {buscado} encontrado.')\n",
        "        break\n"
      ],
      "metadata": {
        "id": "tg-3ibLhVuhm"
      },
      "execution_count": null,
      "outputs": []
    },
    {
      "cell_type": "markdown",
      "source": [
        "Ejemplo 2: Saltar números impares\n",
        "\n"
      ],
      "metadata": {
        "id": "HXYfJ3-3V1kF"
      }
    },
    {
      "cell_type": "code",
      "source": [
        "for i in range(1, 10):\n",
        "    if i % 2 != 0:\n",
        "        continue\n",
        "    print(i)\n"
      ],
      "metadata": {
        "id": "Zo57aQ13V3Sj"
      },
      "execution_count": null,
      "outputs": []
    },
    {
      "cell_type": "markdown",
      "source": [
        "**Ejercicios**\n",
        "\n"
      ],
      "metadata": {
        "id": "w4PfSKK6WA28"
      }
    },
    {
      "cell_type": "markdown",
      "source": [
        "\n",
        "Buscar en una lista: Dada una lista de nombres, pide al usuario un nombre y utiliza break para detener el bucle cuando el nombre sea encontrado. Indica si el nombre está en la lista.\n"
      ],
      "metadata": {
        "id": "gO03Nqs1WEV2"
      }
    },
    {
      "cell_type": "code",
      "source": [],
      "metadata": {
        "id": "k1HfRqgAWHdE"
      },
      "execution_count": null,
      "outputs": []
    },
    {
      "cell_type": "markdown",
      "source": [
        "\n",
        "Números divisibles: Imprime los números del 1 al 20, pero salta aquellos que sean divisibles por 3 usando continue.\n"
      ],
      "metadata": {
        "id": "y3A3iE6RWFj9"
      }
    },
    {
      "cell_type": "code",
      "source": [],
      "metadata": {
        "id": "A-uZzXkkWH1-"
      },
      "execution_count": null,
      "outputs": []
    },
    {
      "cell_type": "markdown",
      "source": [
        "\n",
        "Número primo: Escribe un programa que determine si un número dado es primo. Usa break para salir del bucle cuando encuentres un divisor.\n",
        "\n"
      ],
      "metadata": {
        "id": "rQs0zMdDWIg2"
      }
    },
    {
      "cell_type": "code",
      "source": [],
      "metadata": {
        "id": "90I9jw96WKIe"
      },
      "execution_count": null,
      "outputs": []
    },
    {
      "cell_type": "markdown",
      "source": [
        "\n",
        "Encuentra el primer múltiplo: Escribe un programa que encuentre el primer número entre 10 y 30 que sea divisible por 7. Utiliza break para salir del bucle una vez encontrado.\n",
        "\n"
      ],
      "metadata": {
        "id": "q0FOI94KWG5X"
      }
    },
    {
      "cell_type": "code",
      "source": [],
      "metadata": {
        "id": "wcrvyjm6WMXf"
      },
      "execution_count": null,
      "outputs": []
    },
    {
      "cell_type": "markdown",
      "source": [
        "Contar hasta N pero omitir números: Pide al usuario un número entero N y muestra todos los números del 1 al N, pero omite aquellos que terminen en 3. Utiliza continue."
      ],
      "metadata": {
        "id": "LKw0q4LVWMsc"
      }
    },
    {
      "cell_type": "code",
      "source": [],
      "metadata": {
        "id": "rUQQ8znaWNHl"
      },
      "execution_count": null,
      "outputs": []
    },
    {
      "cell_type": "markdown",
      "source": [
        "## 4. Bucles anidados\n",
        "\n",
        "Los bucles pueden anidarse, es decir, un bucle dentro de otro."
      ],
      "metadata": {
        "id": "lNScBmKsWVTA"
      }
    },
    {
      "cell_type": "markdown",
      "source": [
        "**Ejemplos**\n",
        "\n",
        "Ejemplo 1: Tabla de multiplicar del 1 al 3"
      ],
      "metadata": {
        "id": "kPfU7-CuWc8k"
      }
    },
    {
      "cell_type": "code",
      "source": [
        "for i in range(1, 4):\n",
        "    for j in range(1, 11):\n",
        "        print(f'{i} x {j} = {i * j}')\n",
        "    print('----------')\n"
      ],
      "metadata": {
        "id": "4fNxjjk_Whd0"
      },
      "execution_count": null,
      "outputs": []
    },
    {
      "cell_type": "markdown",
      "source": [
        "Ejemplo 2: Patrón de asteriscos\n",
        "\n"
      ],
      "metadata": {
        "id": "y6ZbaEueWuEI"
      }
    },
    {
      "cell_type": "code",
      "source": [
        "for i in range(1, 6):\n",
        "    for j in range(i):\n",
        "        print('*', end='')\n",
        "    print()\n"
      ],
      "metadata": {
        "id": "ZRpo66MWWvZk"
      },
      "execution_count": null,
      "outputs": []
    },
    {
      "cell_type": "markdown",
      "source": [
        "**Ejercicios**\n",
        "\n",
        "Cuadrado de números: Utiliza bucles anidados para imprimir un cuadrado de números de 1 a 5.\n",
        "\n",
        "Salida esperada:\n",
        "\n",
        "1 2 3 4 5\n",
        "\n",
        "1 2 3 4 5\n",
        "\n",
        "1 2 3 4 5\n",
        "\n",
        "1 2 3 4 5\n",
        "\n",
        "1 2 3 4 5"
      ],
      "metadata": {
        "id": "zOS88DaJXvJW"
      }
    },
    {
      "cell_type": "code",
      "source": [],
      "metadata": {
        "id": "NSEZaWCUX727"
      },
      "execution_count": null,
      "outputs": []
    },
    {
      "cell_type": "markdown",
      "source": [
        "Patrón de números: Crea el siguiente patrón usando bucles anidados:\n",
        "\n",
        "Salida esperada:\n",
        "\n",
        "1\n",
        "\n",
        "22\n",
        "\n",
        "333\n",
        "\n",
        "4444\n",
        "\n",
        "55555"
      ],
      "metadata": {
        "id": "4tGjT1GCX8OT"
      }
    },
    {
      "cell_type": "code",
      "source": [],
      "metadata": {
        "id": "uncuDxZlYCiE"
      },
      "execution_count": null,
      "outputs": []
    },
    {
      "cell_type": "markdown",
      "source": [
        "Números primos entre 2 y 20: Usa bucles anidados para encontrar e imprimir todos los números primos entre 2 y 20.\n",
        "\n"
      ],
      "metadata": {
        "id": "sDqIeyRIYC2J"
      }
    },
    {
      "cell_type": "code",
      "source": [],
      "metadata": {
        "id": "o-jztJ1RYG3N"
      },
      "execution_count": null,
      "outputs": []
    },
    {
      "cell_type": "markdown",
      "source": [
        "Tabla de multiplicar completa: Genera y muestra la tabla de multiplicar del 1 al 10 utilizando bucles anidados.\n"
      ],
      "metadata": {
        "id": "Twtz0I7HYHO3"
      }
    },
    {
      "cell_type": "code",
      "source": [],
      "metadata": {
        "id": "2AU-K2BHYIYt"
      },
      "execution_count": null,
      "outputs": []
    },
    {
      "cell_type": "markdown",
      "source": [
        "\n",
        "Patrón de alfabeto: Crea el siguiente patrón:\n",
        "\n",
        "A\n",
        "\n",
        "B B\n",
        "\n",
        "C C C\n",
        "\n",
        "D D D D\n",
        "\n",
        "E E E E E"
      ],
      "metadata": {
        "id": "jKPDFPh1YIzD"
      }
    },
    {
      "cell_type": "code",
      "source": [],
      "metadata": {
        "id": "QK3V-i4mYJPd"
      },
      "execution_count": null,
      "outputs": []
    },
    {
      "cell_type": "markdown",
      "source": [
        "## Ejercicios adicionales\n"
      ],
      "metadata": {
        "id": "ybnkgBlzYUeY"
      }
    },
    {
      "cell_type": "markdown",
      "source": [
        "\n",
        "Factorial de un número: Escribe un programa que calcule el factorial de un número ingresado por el usuario usando un bucle while o for.\n"
      ],
      "metadata": {
        "id": "YGWgFDzoYcGx"
      }
    },
    {
      "cell_type": "code",
      "source": [],
      "metadata": {
        "id": "5yj5yM_BYdkN"
      },
      "execution_count": null,
      "outputs": []
    },
    {
      "cell_type": "markdown",
      "source": [
        "\n",
        "Serie de Fibonacci: Genera la serie de Fibonacci hasta un número n ingresado por el usuario.\n"
      ],
      "metadata": {
        "id": "7JRZwHK6YeD1"
      }
    },
    {
      "cell_type": "code",
      "source": [],
      "metadata": {
        "id": "CA7v2DOwYfYl"
      },
      "execution_count": null,
      "outputs": []
    },
    {
      "cell_type": "markdown",
      "source": [
        "\n",
        "Invertir una cadena: Solicita al usuario una cadena y utiliza un bucle para invertirla.\n",
        "\n"
      ],
      "metadata": {
        "id": "vAT0DyQMYfz5"
      }
    },
    {
      "cell_type": "code",
      "source": [],
      "metadata": {
        "id": "60YU2EkLYhh7"
      },
      "execution_count": null,
      "outputs": []
    },
    {
      "cell_type": "markdown",
      "source": [
        "Contador de palabras: Pide al usuario que ingrese una frase y cuenta el número de palabras que contiene.\n"
      ],
      "metadata": {
        "id": "KgFkixC9Yh5P"
      }
    },
    {
      "cell_type": "code",
      "source": [],
      "metadata": {
        "id": "gwfxhij3YjIf"
      },
      "execution_count": null,
      "outputs": []
    },
    {
      "cell_type": "markdown",
      "source": [
        "\n",
        "Adivinar la palabra: Crea un juego en el que el programa tiene una lista de palabras y selecciona una al azar. El usuario debe adivinar la palabra letra por letra. Muestra los intentos y las letras descubiertas en cada intento.\n"
      ],
      "metadata": {
        "id": "WLqyimUEYjgk"
      }
    },
    {
      "cell_type": "code",
      "source": [],
      "metadata": {
        "id": "31aZPYwnYkwH"
      },
      "execution_count": null,
      "outputs": []
    },
    {
      "cell_type": "markdown",
      "source": [
        "\n",
        "Calculadora simple: Crea un programa que muestre un menú con opciones (suma, resta, multiplicación, división) y permita al usuario realizar operaciones hasta que decida salir.\n"
      ],
      "metadata": {
        "id": "9liKqK6dYlBn"
      }
    },
    {
      "cell_type": "code",
      "source": [],
      "metadata": {
        "id": "cgMKUBuDYmOE"
      },
      "execution_count": null,
      "outputs": []
    },
    {
      "cell_type": "markdown",
      "source": [
        "Contar letras y dígitos: Escribe un programa que tome una oración y calcule el número de letras y dígitos.\n",
        "\n"
      ],
      "metadata": {
        "id": "9tXeGQ7UYqrI"
      }
    },
    {
      "cell_type": "code",
      "source": [],
      "metadata": {
        "id": "EmsCNfhRY4i5"
      },
      "execution_count": null,
      "outputs": []
    },
    {
      "cell_type": "markdown",
      "source": [
        "Sumar números pares e impares: Pide al usuario que ingrese números enteros (el ingreso termina con 0) y calcula la suma de los números pares y la suma de los impares por separado.\n"
      ],
      "metadata": {
        "id": "ZlR9FWOtY44y"
      }
    },
    {
      "cell_type": "code",
      "source": [],
      "metadata": {
        "id": "8Cvo6GXbY6GY"
      },
      "execution_count": null,
      "outputs": []
    },
    {
      "cell_type": "markdown",
      "source": [
        "\n",
        "Juego de adivinanzas mejorado: El programa genera un número aleatorio entre 1 y 100. El usuario tiene 10 intentos para adivinarlo. Después de cada intento, el programa indica si el número es mayor o menor y muestra cuántos intentos quedan."
      ],
      "metadata": {
        "id": "I7BC5R_BY6fW"
      }
    },
    {
      "cell_type": "code",
      "source": [],
      "metadata": {
        "id": "tszZDbjWY6-A"
      },
      "execution_count": null,
      "outputs": []
    },
    {
      "cell_type": "markdown",
      "source": [
        "---\n",
        "\n",
        "# Conclusión\n",
        "\n",
        "Las estructuras de control repetitivas son fundamentales en la programación, ya que permiten automatizar y simplificar tareas repetitivas. Dominar los bucles while y for, así como las declaraciones break y continue, es esencial para escribir código eficiente y efectivo en Python.\n",
        "\n",
        "\n",
        "---"
      ],
      "metadata": {
        "id": "VpeMBBQwY-bf"
      }
    },
    {
      "cell_type": "markdown",
      "source": [
        "---\n",
        "\n",
        "# Gracias por completar este laboratorio!\n",
        "\n",
        "---\n"
      ],
      "metadata": {
        "id": "BSaOFLOkZWgr"
      }
    }
  ]
}