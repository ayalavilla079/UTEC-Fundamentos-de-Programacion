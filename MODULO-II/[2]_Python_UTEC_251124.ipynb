{
  "nbformat": 4,
  "nbformat_minor": 0,
  "metadata": {
    "colab": {
      "provenance": [],
      "include_colab_link": true
    },
    "kernelspec": {
      "name": "python3",
      "display_name": "Python 3"
    },
    "language_info": {
      "name": "python"
    }
  },
  "cells": [
    {
      "cell_type": "markdown",
      "metadata": {
        "id": "view-in-github",
        "colab_type": "text"
      },
      "source": [
        "<a href=\"https://colab.research.google.com/github/ayalavilla079/UTEC-Fundamentos-de-Programacion/blob/main/MODULO-II/%5B2%5D_Python_UTEC_251124.ipynb\" target=\"_parent\"><img src=\"https://colab.research.google.com/assets/colab-badge.svg\" alt=\"Open In Colab\"/></a>"
      ]
    },
    {
      "cell_type": "markdown",
      "source": [
        "# Listas"
      ],
      "metadata": {
        "id": "kgxLa1nnL9mg"
      }
    },
    {
      "cell_type": "markdown",
      "source": [
        "## Crear listas e identificar los tipos de listas"
      ],
      "metadata": {
        "id": "iVvjZRL9MIzV"
      }
    },
    {
      "cell_type": "code",
      "execution_count": null,
      "metadata": {
        "id": "016n8dvMLwDu"
      },
      "outputs": [],
      "source": [
        "# Listas homogéneas\n",
        "\n",
        "numeros = [1,2,3,4]"
      ]
    },
    {
      "cell_type": "code",
      "source": [
        "letras = [\"a\",\"b\",\"c\",\"d\",\"e\",\"f\"]"
      ],
      "metadata": {
        "id": "eRayCmfAMjF3"
      },
      "execution_count": null,
      "outputs": []
    },
    {
      "cell_type": "code",
      "source": [
        "print(f\"El objeto {numeros} es del tipo {type(numeros)}\")"
      ],
      "metadata": {
        "colab": {
          "base_uri": "https://localhost:8080/"
        },
        "id": "wgqTrakuMxNt",
        "outputId": "6cec9a10-af93-4a38-8c49-5584b8aff784"
      },
      "execution_count": null,
      "outputs": [
        {
          "output_type": "stream",
          "name": "stdout",
          "text": [
            "El objeto [1, 2, 3, 4] es del tipo <class 'list'>\n"
          ]
        }
      ]
    },
    {
      "cell_type": "code",
      "source": [
        "print(f\"El objeto {letras} es del tipo {type(letras)}\")"
      ],
      "metadata": {
        "colab": {
          "base_uri": "https://localhost:8080/"
        },
        "id": "Ud5-cyAJNL-L",
        "outputId": "dad5b439-c4fc-466a-c3bc-ba8877a130db"
      },
      "execution_count": null,
      "outputs": [
        {
          "output_type": "stream",
          "name": "stdout",
          "text": [
            "El objeto ['a', 'b', 'c', 'd', 'e', 'f'] es del tipo <class 'list'>\n"
          ]
        }
      ]
    },
    {
      "cell_type": "code",
      "source": [
        "# Listas heterogéneas\n",
        "\n",
        "datos = [4,\"Jorge\",-15.5,\"UTEC\",True]"
      ],
      "metadata": {
        "id": "lkuml3PNNTCE"
      },
      "execution_count": null,
      "outputs": []
    },
    {
      "cell_type": "code",
      "source": [
        "print(f\"El objeto {datos} es del tipo {type(datos)}\")"
      ],
      "metadata": {
        "colab": {
          "base_uri": "https://localhost:8080/"
        },
        "id": "t5wncZYmN-bU",
        "outputId": "e9834149-417a-4c19-a2c2-2f5edec37c91"
      },
      "execution_count": null,
      "outputs": [
        {
          "output_type": "stream",
          "name": "stdout",
          "text": [
            "El objeto [4, 'Jorge', -15.5, 'UTEC', True] es del tipo <class 'list'>\n"
          ]
        }
      ]
    },
    {
      "cell_type": "code",
      "source": [
        "%whos"
      ],
      "metadata": {
        "colab": {
          "base_uri": "https://localhost:8080/"
        },
        "id": "JMzbT6veOAfK",
        "outputId": "d85af18d-3a45-4876-85f1-9e24c794cfe8"
      },
      "execution_count": null,
      "outputs": [
        {
          "output_type": "stream",
          "name": "stdout",
          "text": [
            "Variable   Type    Data/Info\n",
            "----------------------------\n",
            "datos      list    n=5\n",
            "letras     list    n=6\n",
            "numeros    list    n=4\n"
          ]
        }
      ]
    },
    {
      "cell_type": "markdown",
      "source": [
        "## Acceder a los elementos de las listas"
      ],
      "metadata": {
        "id": "QGyMD-ghOVnD"
      }
    },
    {
      "cell_type": "code",
      "source": [
        "print(f\"La lista {datos}\")"
      ],
      "metadata": {
        "colab": {
          "base_uri": "https://localhost:8080/"
        },
        "id": "_43JwrFKOLfS",
        "outputId": "d18264bb-0109-4ef7-89a6-c0a376aa37af"
      },
      "execution_count": null,
      "outputs": [
        {
          "output_type": "stream",
          "name": "stdout",
          "text": [
            "La lista [4, 'Jorge', -15.5, 'UTEC', True]\n"
          ]
        }
      ]
    },
    {
      "cell_type": "code",
      "source": [
        "print(f\"El elemento ubicado en el índice 3 de la lista es {datos[3]}\")"
      ],
      "metadata": {
        "colab": {
          "base_uri": "https://localhost:8080/"
        },
        "id": "3h7zL-1AOmQm",
        "outputId": "5f819e96-84df-40fe-a75d-04683638bec0"
      },
      "execution_count": null,
      "outputs": [
        {
          "output_type": "stream",
          "name": "stdout",
          "text": [
            "El elemento ubicado en el índice 3 de la lista es UTEC\n"
          ]
        }
      ]
    },
    {
      "cell_type": "code",
      "source": [
        "print(f\"El elemento ubicado en el índice 4 de la lista es {datos[4]}\")"
      ],
      "metadata": {
        "colab": {
          "base_uri": "https://localhost:8080/"
        },
        "id": "AQJs4ry7PlAH",
        "outputId": "cf2712e6-47db-44f5-bb23-d5ee56e3ae26"
      },
      "execution_count": null,
      "outputs": [
        {
          "output_type": "stream",
          "name": "stdout",
          "text": [
            "El elemento ubicado en el índice 4 de la lista es True\n"
          ]
        }
      ]
    },
    {
      "cell_type": "code",
      "source": [
        "print(f\"El último elemento de la lista es {datos[-1]}\")"
      ],
      "metadata": {
        "colab": {
          "base_uri": "https://localhost:8080/"
        },
        "id": "RudZOpWQQL--",
        "outputId": "d3da7280-1b8f-49a9-dc8c-678489357abf"
      },
      "execution_count": null,
      "outputs": [
        {
          "output_type": "stream",
          "name": "stdout",
          "text": [
            "El último elemento de la lista es True\n"
          ]
        }
      ]
    },
    {
      "cell_type": "code",
      "source": [
        "print(f\"Los primeros elementos de la lista son {datos[0:3]}\")"
      ],
      "metadata": {
        "colab": {
          "base_uri": "https://localhost:8080/"
        },
        "id": "9JRlM7BZQv-X",
        "outputId": "b9be1446-e7f7-4f48-d16d-cfedca2f8301"
      },
      "execution_count": null,
      "outputs": [
        {
          "output_type": "stream",
          "name": "stdout",
          "text": [
            "Los primeros elementos de la lista son [4, 'Jorge', -15.5]\n"
          ]
        }
      ]
    },
    {
      "cell_type": "code",
      "source": [
        "print(f\"Los primeros elementos de la lista son {datos[:3]}\")"
      ],
      "metadata": {
        "colab": {
          "base_uri": "https://localhost:8080/"
        },
        "id": "pcs4SirPRtbv",
        "outputId": "f4ec71f6-2f3f-40b7-d400-31e34e95e609"
      },
      "execution_count": null,
      "outputs": [
        {
          "output_type": "stream",
          "name": "stdout",
          "text": [
            "Los primeros elementos de la lista son [4, 'Jorge', -15.5]\n"
          ]
        }
      ]
    },
    {
      "cell_type": "code",
      "source": [
        "# Mostrar todos los elementos de la lista letras\n",
        "# Mostrar el cuarto, quinto y sexto elemento de la lista letras"
      ],
      "metadata": {
        "id": "-GX1s7V4SDoy"
      },
      "execution_count": null,
      "outputs": []
    },
    {
      "cell_type": "code",
      "source": [
        "#Mostrar todos los elementos de la lista letras\n",
        "print(f\"Los elementos de la lista son:\\n {letras[:]}\")\n",
        "#Mostrar el cuarto, quinto y sexto elemento de la lista\n",
        "print(f\"Los elementos seleccionados de la lista son:\\n {letras[3:6]}\")"
      ],
      "metadata": {
        "colab": {
          "base_uri": "https://localhost:8080/"
        },
        "id": "m6yYK99iTJej",
        "outputId": "44d74caa-58f6-4f19-c3b4-34f2225bf10f"
      },
      "execution_count": null,
      "outputs": [
        {
          "output_type": "stream",
          "name": "stdout",
          "text": [
            "Los elementos de la lista son:\n",
            " ['a', 'b', 'c', 'd', 'e', 'f']\n",
            "Los elementos seleccionados de la lista son:\n",
            " ['d', 'e', 'f']\n"
          ]
        }
      ]
    },
    {
      "cell_type": "code",
      "source": [
        "#Mostrar el cuarto, quinto y sexto elemento de la lista\n",
        "print(f\"Los elementos seleccionados de la lista son:\\n {letras[3:]}\")"
      ],
      "metadata": {
        "colab": {
          "base_uri": "https://localhost:8080/"
        },
        "id": "9tJgrTT_ThKu",
        "outputId": "d66d5182-69c6-4f5a-f41e-a6b3579103b7"
      },
      "execution_count": null,
      "outputs": [
        {
          "output_type": "stream",
          "name": "stdout",
          "text": [
            "Los elementos seleccionados de la lista son:\n",
            " ['d', 'e', 'f']\n"
          ]
        }
      ]
    },
    {
      "cell_type": "code",
      "source": [
        "print(f\"Los elementos seleccionados de la lista son:\\n {letras[2:4]}\")"
      ],
      "metadata": {
        "colab": {
          "base_uri": "https://localhost:8080/"
        },
        "id": "pDvhWDJCWKPC",
        "outputId": "306eef58-cd08-4d46-96b4-d232af5cc113"
      },
      "execution_count": null,
      "outputs": [
        {
          "output_type": "stream",
          "name": "stdout",
          "text": [
            "Los elementos seleccionados de la lista son:\n",
            " ['c', 'd']\n"
          ]
        }
      ]
    },
    {
      "cell_type": "markdown",
      "source": [
        "## Insertar elemenos en una lista"
      ],
      "metadata": {
        "id": "i1_S_JH3W03N"
      }
    },
    {
      "cell_type": "code",
      "source": [
        "pares = [0,2,4,6,8,10] # lista homogénea"
      ],
      "metadata": {
        "id": "N44yWifoWth-"
      },
      "execution_count": null,
      "outputs": []
    },
    {
      "cell_type": "code",
      "source": [
        "type(pares)"
      ],
      "metadata": {
        "colab": {
          "base_uri": "https://localhost:8080/"
        },
        "id": "KX1qQun1XKL_",
        "outputId": "768f47b4-d384-492a-ca02-33a15e69127c"
      },
      "execution_count": null,
      "outputs": [
        {
          "output_type": "execute_result",
          "data": {
            "text/plain": [
              "list"
            ]
          },
          "metadata": {},
          "execution_count": 19
        }
      ]
    },
    {
      "cell_type": "code",
      "source": [
        "# Insertar un elemento al final de la lista\n",
        "pares.append(12)"
      ],
      "metadata": {
        "id": "v88EYqYIXLka"
      },
      "execution_count": null,
      "outputs": []
    },
    {
      "cell_type": "code",
      "source": [
        "print(f\"La lista actualizada es \\n{pares}\")"
      ],
      "metadata": {
        "colab": {
          "base_uri": "https://localhost:8080/"
        },
        "id": "01KP1c38X1Xy",
        "outputId": "d0814cf9-5b00-46c5-d6f7-15903150992c"
      },
      "execution_count": null,
      "outputs": [
        {
          "output_type": "stream",
          "name": "stdout",
          "text": [
            "La lista actualizada es \n",
            "[0, 2, 4, 6, 8, 10, 12]\n"
          ]
        }
      ]
    },
    {
      "cell_type": "code",
      "source": [
        "pares.insert(1,100) # insertar elementos en un determinado índice"
      ],
      "metadata": {
        "id": "ubgAnikrYCV-"
      },
      "execution_count": null,
      "outputs": []
    },
    {
      "cell_type": "code",
      "source": [
        "print(f\"La lista actualizada es \\n{pares}\")"
      ],
      "metadata": {
        "colab": {
          "base_uri": "https://localhost:8080/"
        },
        "id": "xf6wiYdpZMZL",
        "outputId": "70187804-3bbe-4f5b-de43-ebca7b9335a2"
      },
      "execution_count": null,
      "outputs": [
        {
          "output_type": "stream",
          "name": "stdout",
          "text": [
            "La lista actualizada es \n",
            "[0, 100, 2, 4, 6, 8, 10, 12]\n"
          ]
        }
      ]
    },
    {
      "cell_type": "code",
      "source": [
        "print(f\"La lista letras tiene los siguientes elementos \\n{letras}\")"
      ],
      "metadata": {
        "colab": {
          "base_uri": "https://localhost:8080/"
        },
        "id": "L-iQbNAKZQGq",
        "outputId": "c8f123d1-1e4a-431f-9584-cbb0ce8e2703"
      },
      "execution_count": null,
      "outputs": [
        {
          "output_type": "stream",
          "name": "stdout",
          "text": [
            "La lista letras tiene los siguientes elementos \n",
            "['a', 'b', 'c', 'd', 'e', 'f']\n"
          ]
        }
      ]
    },
    {
      "cell_type": "code",
      "source": [
        "letras.insert(-1,\"AAA\")\n",
        "print(f\"La lista actualizada \\n{letras}\")"
      ],
      "metadata": {
        "colab": {
          "base_uri": "https://localhost:8080/"
        },
        "id": "YKrewjG-Zs6R",
        "outputId": "7b7ae402-6595-4f13-ebd1-9e4a111347da"
      },
      "execution_count": null,
      "outputs": [
        {
          "output_type": "stream",
          "name": "stdout",
          "text": [
            "La lista actualizada \n",
            "['a', 'b', 'c', 'd', 'e', 'AAA', 'f']\n"
          ]
        }
      ]
    },
    {
      "cell_type": "code",
      "source": [
        "letras.insert(9,\"X\")\n",
        "print(f\"La lista actualizada \\n{letras}\")"
      ],
      "metadata": {
        "colab": {
          "base_uri": "https://localhost:8080/"
        },
        "id": "8NtaR8uYamVy",
        "outputId": "810b4b40-368f-46d4-b5aa-6baf13489c5c"
      },
      "execution_count": null,
      "outputs": [
        {
          "output_type": "stream",
          "name": "stdout",
          "text": [
            "La lista actualizada \n",
            "['a', 'b', 'c', 'd', 'e', 'AAA', 'f', 'X']\n"
          ]
        }
      ]
    },
    {
      "cell_type": "code",
      "source": [
        "letras[7]"
      ],
      "metadata": {
        "colab": {
          "base_uri": "https://localhost:8080/",
          "height": 36
        },
        "id": "IirG99rTbFMG",
        "outputId": "d9ffec17-24b2-4027-c903-2f0986ab381e"
      },
      "execution_count": null,
      "outputs": [
        {
          "output_type": "execute_result",
          "data": {
            "text/plain": [
              "'X'"
            ],
            "application/vnd.google.colaboratory.intrinsic+json": {
              "type": "string"
            }
          },
          "metadata": {},
          "execution_count": 27
        }
      ]
    },
    {
      "cell_type": "markdown",
      "source": [
        "## Las listas son mutables"
      ],
      "metadata": {
        "id": "xe-j09dgfbgl"
      }
    },
    {
      "cell_type": "code",
      "source": [
        "print(f\"Los elementos de la lista letras son \\n{letras[:]}\")"
      ],
      "metadata": {
        "colab": {
          "base_uri": "https://localhost:8080/"
        },
        "id": "PhBEqiwQbckK",
        "outputId": "ae0e64d1-a8b1-4885-c821-b1b10bb3570d"
      },
      "execution_count": null,
      "outputs": [
        {
          "output_type": "stream",
          "name": "stdout",
          "text": [
            "Los elementos de la lista letras son \n",
            "['a', 'b', 'c', 'd', 'e', 'AAA', 'f', 'X']\n"
          ]
        }
      ]
    },
    {
      "cell_type": "code",
      "source": [
        "# Acceder a los primeros 3 elementos\n",
        "print(f\"Los primeros tres elementos de la lista letras son \\n{letras[:3]}\")"
      ],
      "metadata": {
        "colab": {
          "base_uri": "https://localhost:8080/"
        },
        "id": "UbbmZ19wfj5y",
        "outputId": "4952e45a-0bf3-4c05-8907-4a5463ec77b7"
      },
      "execution_count": null,
      "outputs": [
        {
          "output_type": "stream",
          "name": "stdout",
          "text": [
            "Los primeros tres elementos de la lista letras son \n",
            "['a', 'b', 'c']\n"
          ]
        }
      ]
    },
    {
      "cell_type": "code",
      "source": [
        "# Acceder a los primeros 3 elementos\n",
        "print(f\"Los primeros tres elementos de la lista letras son \\n{letras[0:3]}\")"
      ],
      "metadata": {
        "colab": {
          "base_uri": "https://localhost:8080/"
        },
        "id": "ABAp23aIgv7x",
        "outputId": "e5b2b68c-d0e6-49d5-d7b7-6d9bd66643ca"
      },
      "execution_count": null,
      "outputs": [
        {
          "output_type": "stream",
          "name": "stdout",
          "text": [
            "Los primeros tres elementos de la lista letras son \n",
            "['a', 'b', 'c']\n"
          ]
        }
      ]
    },
    {
      "cell_type": "code",
      "source": [
        "letras[:3] = [\"A\",\"B\",\"C\"]\n",
        "print(f\"La lista actualizada es \\n{letras}\")"
      ],
      "metadata": {
        "colab": {
          "base_uri": "https://localhost:8080/"
        },
        "id": "sSRBMuH9gzj0",
        "outputId": "c2504b99-a404-4383-bba8-624d6d79f63b"
      },
      "execution_count": null,
      "outputs": [
        {
          "output_type": "stream",
          "name": "stdout",
          "text": [
            "La lista actualizada es \n",
            "['A', 'B', 'C', 'd', 'e', 'AAA', 'f', 'X']\n"
          ]
        }
      ]
    },
    {
      "cell_type": "code",
      "source": [
        "letras[:3] = []\n",
        "print(f\"La lista actualizada es \\n{letras}\")"
      ],
      "metadata": {
        "colab": {
          "base_uri": "https://localhost:8080/"
        },
        "id": "nsWXy7r7hG0U",
        "outputId": "b80b0385-adb2-4f8d-fbb7-193f4d4cd2c7"
      },
      "execution_count": null,
      "outputs": [
        {
          "output_type": "stream",
          "name": "stdout",
          "text": [
            "La lista actualizada es \n",
            "['d', 'e', 'AAA', 'f', 'X']\n"
          ]
        }
      ]
    },
    {
      "cell_type": "markdown",
      "source": [
        "## Eliminar elementos de una lista"
      ],
      "metadata": {
        "id": "DTaWCtQ5hyNZ"
      }
    },
    {
      "cell_type": "code",
      "source": [
        "print(f\"La lista inicial es \\n{letras}\")\n",
        "elemento = letras.pop(2)\n",
        "print(f\"La lista actualizada es \\n{letras}\")\n",
        "print(f\"El elemento eliminado de la lista es {elemento}\")"
      ],
      "metadata": {
        "colab": {
          "base_uri": "https://localhost:8080/"
        },
        "id": "c9Rcb6a7hj9b",
        "outputId": "8bef4505-04e1-4fc8-8eaa-beb45530b857"
      },
      "execution_count": null,
      "outputs": [
        {
          "output_type": "stream",
          "name": "stdout",
          "text": [
            "La lista inicial es \n",
            "['d', 'e', 'AAA', 'f', 'X']\n",
            "La lista actualizada es \n",
            "['d', 'e', 'f', 'X']\n",
            "El elemento eliminado de la lista es AAA\n"
          ]
        }
      ]
    },
    {
      "cell_type": "code",
      "source": [
        "print(f\"La lista inicial es \\n{pares}\")\n",
        "pares.remove(100)\n",
        "print(f\"La lista actualizada es \\n{pares}\")"
      ],
      "metadata": {
        "colab": {
          "base_uri": "https://localhost:8080/"
        },
        "id": "1tsFnKUYjAlM",
        "outputId": "f89a40d2-03df-45de-a21d-5ffdb6a8710c"
      },
      "execution_count": null,
      "outputs": [
        {
          "output_type": "stream",
          "name": "stdout",
          "text": [
            "La lista inicial es \n",
            "[0, 100, 2, 4, 6, 8, 10, 12]\n",
            "La lista actualizada es \n",
            "[0, 2, 4, 6, 8, 10, 12]\n"
          ]
        }
      ]
    },
    {
      "cell_type": "code",
      "source": [
        "pares.append(12)\n",
        "print(f\"La lista actualizada es \\n{pares}\")"
      ],
      "metadata": {
        "colab": {
          "base_uri": "https://localhost:8080/"
        },
        "id": "y5wIhUKvjUQp",
        "outputId": "55eac8c5-20e7-47c3-ee97-dc55904f2480"
      },
      "execution_count": null,
      "outputs": [
        {
          "output_type": "stream",
          "name": "stdout",
          "text": [
            "La lista actualizada es \n",
            "[0, 2, 4, 6, 8, 10, 12, 12]\n"
          ]
        }
      ]
    },
    {
      "cell_type": "code",
      "source": [
        "pares.remove(12)\n",
        "print(f\"La lista actualizada es \\n{pares}\")"
      ],
      "metadata": {
        "colab": {
          "base_uri": "https://localhost:8080/"
        },
        "id": "XfpLlimLkLK9",
        "outputId": "669468d9-3dcc-4536-cc90-b56005496e6f"
      },
      "execution_count": null,
      "outputs": [
        {
          "output_type": "stream",
          "name": "stdout",
          "text": [
            "La lista actualizada es \n",
            "[0, 2, 4, 6, 8, 10, 12]\n"
          ]
        }
      ]
    },
    {
      "cell_type": "code",
      "source": [
        "print(f\"La lista inicial es \\n{pares}\")\n",
        "del pares[4:]\n",
        "print(f\"La lista actualizada es \\n{pares}\")"
      ],
      "metadata": {
        "colab": {
          "base_uri": "https://localhost:8080/"
        },
        "id": "xCthRWfYkS6G",
        "outputId": "d33afacb-32c2-4ef7-de63-05868abf1665"
      },
      "execution_count": null,
      "outputs": [
        {
          "output_type": "stream",
          "name": "stdout",
          "text": [
            "La lista inicial es \n",
            "[0, 2, 4, 6, 8, 10, 12]\n",
            "La lista actualizada es \n",
            "[0, 2, 4, 6]\n"
          ]
        }
      ]
    },
    {
      "cell_type": "code",
      "source": [
        "%whos"
      ],
      "metadata": {
        "colab": {
          "base_uri": "https://localhost:8080/"
        },
        "id": "ERZ-5xpIlFgp",
        "outputId": "d0317a4e-81cd-424c-e150-7e5210810ea4"
      },
      "execution_count": null,
      "outputs": [
        {
          "output_type": "stream",
          "name": "stdout",
          "text": [
            "Variable   Type    Data/Info\n",
            "----------------------------\n",
            "datos      list    n=5\n",
            "elemento   str     AAA\n",
            "letras     list    n=4\n",
            "numeros    list    n=4\n",
            "pares      list    n=4\n"
          ]
        }
      ]
    },
    {
      "cell_type": "markdown",
      "source": [
        "## Ordenar los elementos de una lista"
      ],
      "metadata": {
        "id": "7zfEZNpclvhu"
      }
    },
    {
      "cell_type": "code",
      "source": [
        "lista_0 = [10, 100, 1, 50, 23, 120, 1000, 3, 25]\n",
        "print(f\"La lista tiene los elementos \\n{lista_0}\")"
      ],
      "metadata": {
        "colab": {
          "base_uri": "https://localhost:8080/"
        },
        "id": "FsYGw7dklqfX",
        "outputId": "db601988-0875-4f99-df63-0f5c0b385dbe"
      },
      "execution_count": null,
      "outputs": [
        {
          "output_type": "stream",
          "name": "stdout",
          "text": [
            "La lista tiene los elementos \n",
            "[10, 100, 1, 50, 23, 120, 1000, 3, 25]\n"
          ]
        }
      ]
    },
    {
      "cell_type": "code",
      "source": [
        "print(f\"La lista tiene los elementos \\n{lista_0}\")\n",
        "lista_0.sort()\n",
        "print(f\"\\nLa lista ordenada tiene los elementos \\n{lista_0}\")"
      ],
      "metadata": {
        "colab": {
          "base_uri": "https://localhost:8080/"
        },
        "id": "FH9upuKilsxK",
        "outputId": "69d72e57-65e8-4e6b-8531-6fc4228a57ef"
      },
      "execution_count": null,
      "outputs": [
        {
          "output_type": "stream",
          "name": "stdout",
          "text": [
            "La lista tiene los elementos \n",
            "[10, 100, 1, 50, 23, 120, 1000, 3, 25]\n",
            "\n",
            "La lista ordenada tiene los elementos \n",
            "[1, 3, 10, 23, 25, 50, 100, 120, 1000]\n"
          ]
        }
      ]
    },
    {
      "cell_type": "code",
      "source": [
        "lista_0 = [10, 100, 1, 50, 23, 120, 1000, 3, 25]\n",
        "print(f\"La lista tiene los elementos \\n{lista_0}\")\n",
        "lista_0.sort(reverse=True)\n",
        "print(f\"\\nLa lista ordenada (descendente) tiene los elementos \\n{lista_0}\")"
      ],
      "metadata": {
        "colab": {
          "base_uri": "https://localhost:8080/"
        },
        "id": "1abrXa_2mU32",
        "outputId": "f2e45e48-c693-4ef7-f826-393ecfd8b371"
      },
      "execution_count": null,
      "outputs": [
        {
          "output_type": "stream",
          "name": "stdout",
          "text": [
            "La lista tiene los elementos \n",
            "[10, 100, 1, 50, 23, 120, 1000, 3, 25]\n",
            "\n",
            "La lista ordenada (descendente) tiene los elementos \n",
            "[1000, 120, 100, 50, 25, 23, 10, 3, 1]\n"
          ]
        }
      ]
    },
    {
      "cell_type": "code",
      "source": [
        "print(f\"El último elemento de la lista es {lista_0[-1]}\")"
      ],
      "metadata": {
        "colab": {
          "base_uri": "https://localhost:8080/"
        },
        "id": "booZAGmmm7hv",
        "outputId": "e8c819f5-def8-4bab-985e-9a69d6972c31"
      },
      "execution_count": null,
      "outputs": [
        {
          "output_type": "stream",
          "name": "stdout",
          "text": [
            "El último elemento de la lista es 1\n"
          ]
        }
      ]
    },
    {
      "cell_type": "markdown",
      "source": [
        "## Buscar elementos en una lista"
      ],
      "metadata": {
        "id": "TuYynzRYngYs"
      }
    },
    {
      "cell_type": "code",
      "source": [
        "print(f\"Los elmentos de la lista son \\n{lista_0}\")"
      ],
      "metadata": {
        "colab": {
          "base_uri": "https://localhost:8080/"
        },
        "id": "s5mLemB9nMBV",
        "outputId": "32ffea2d-119d-46a8-8874-9f6269cb96e5"
      },
      "execution_count": null,
      "outputs": [
        {
          "output_type": "stream",
          "name": "stdout",
          "text": [
            "Los elmentos de la lista son \n",
            "[1000, 120, 100, 50, 25, 23, 10, 3, 1]\n"
          ]
        }
      ]
    },
    {
      "cell_type": "code",
      "source": [
        "100 in lista_0"
      ],
      "metadata": {
        "colab": {
          "base_uri": "https://localhost:8080/"
        },
        "id": "1bzc2rOnnp9F",
        "outputId": "12291cd7-8a6a-493b-a82f-c182c6dad254"
      },
      "execution_count": null,
      "outputs": [
        {
          "output_type": "execute_result",
          "data": {
            "text/plain": [
              "True"
            ]
          },
          "metadata": {},
          "execution_count": 44
        }
      ]
    },
    {
      "cell_type": "code",
      "source": [
        "190 in lista_0"
      ],
      "metadata": {
        "colab": {
          "base_uri": "https://localhost:8080/"
        },
        "id": "x3VcfM-Snviz",
        "outputId": "fb283baa-ee8d-4828-b7c3-1770ec480226"
      },
      "execution_count": null,
      "outputs": [
        {
          "output_type": "execute_result",
          "data": {
            "text/plain": [
              "False"
            ]
          },
          "metadata": {},
          "execution_count": 45
        }
      ]
    },
    {
      "cell_type": "code",
      "source": [
        "print(f\"El elemento 1000 está en el índice {lista_0.index(1000)}\")"
      ],
      "metadata": {
        "colab": {
          "base_uri": "https://localhost:8080/"
        },
        "id": "KNxpNRWlnzFe",
        "outputId": "fbed89af-251b-45a1-fe75-1e60a8b12e16"
      },
      "execution_count": null,
      "outputs": [
        {
          "output_type": "stream",
          "name": "stdout",
          "text": [
            "El elemento 1000 está en el índice 0\n"
          ]
        }
      ]
    },
    {
      "cell_type": "code",
      "source": [
        "lista_0.index(1000,0)"
      ],
      "metadata": {
        "colab": {
          "base_uri": "https://localhost:8080/"
        },
        "id": "HYvxug23oLxj",
        "outputId": "559037c1-98a5-4448-a4ca-6b4b30258a22"
      },
      "execution_count": null,
      "outputs": [
        {
          "output_type": "execute_result",
          "data": {
            "text/plain": [
              "0"
            ]
          },
          "metadata": {},
          "execution_count": 47
        }
      ]
    },
    {
      "cell_type": "code",
      "source": [
        "lista_0.index(1000,3)"
      ],
      "metadata": {
        "colab": {
          "base_uri": "https://localhost:8080/",
          "height": 144
        },
        "id": "bJUszH0No9Dv",
        "outputId": "543b7cc7-eb98-40af-ec19-787143bebb10"
      },
      "execution_count": null,
      "outputs": [
        {
          "output_type": "error",
          "ename": "ValueError",
          "evalue": "1000 is not in list",
          "traceback": [
            "\u001b[0;31m---------------------------------------------------------------------------\u001b[0m",
            "\u001b[0;31mValueError\u001b[0m                                Traceback (most recent call last)",
            "\u001b[0;32m<ipython-input-49-b76545b00adb>\u001b[0m in \u001b[0;36m<cell line: 1>\u001b[0;34m()\u001b[0m\n\u001b[0;32m----> 1\u001b[0;31m \u001b[0mlista_0\u001b[0m\u001b[0;34m.\u001b[0m\u001b[0mindex\u001b[0m\u001b[0;34m(\u001b[0m\u001b[0;36m1000\u001b[0m\u001b[0;34m,\u001b[0m\u001b[0;36m3\u001b[0m\u001b[0;34m)\u001b[0m\u001b[0;34m\u001b[0m\u001b[0;34m\u001b[0m\u001b[0m\n\u001b[0m",
            "\u001b[0;31mValueError\u001b[0m: 1000 is not in list"
          ]
        }
      ]
    },
    {
      "cell_type": "code",
      "source": [
        "lista_0.index(1000,1,6)"
      ],
      "metadata": {
        "colab": {
          "base_uri": "https://localhost:8080/",
          "height": 144
        },
        "id": "06vNxQrrpAb_",
        "outputId": "b598f936-7861-4661-e2f2-04a544aa744b"
      },
      "execution_count": null,
      "outputs": [
        {
          "output_type": "error",
          "ename": "ValueError",
          "evalue": "1000 is not in list",
          "traceback": [
            "\u001b[0;31m---------------------------------------------------------------------------\u001b[0m",
            "\u001b[0;31mValueError\u001b[0m                                Traceback (most recent call last)",
            "\u001b[0;32m<ipython-input-51-2fef7fc97f8d>\u001b[0m in \u001b[0;36m<cell line: 1>\u001b[0;34m()\u001b[0m\n\u001b[0;32m----> 1\u001b[0;31m \u001b[0mlista_0\u001b[0m\u001b[0;34m.\u001b[0m\u001b[0mindex\u001b[0m\u001b[0;34m(\u001b[0m\u001b[0;36m1000\u001b[0m\u001b[0;34m,\u001b[0m\u001b[0;36m1\u001b[0m\u001b[0;34m,\u001b[0m\u001b[0;36m6\u001b[0m\u001b[0;34m)\u001b[0m\u001b[0;34m\u001b[0m\u001b[0;34m\u001b[0m\u001b[0m\n\u001b[0m",
            "\u001b[0;31mValueError\u001b[0m: 1000 is not in list"
          ]
        }
      ]
    },
    {
      "cell_type": "code",
      "source": [
        "lista_0.index(50,1,6)"
      ],
      "metadata": {
        "colab": {
          "base_uri": "https://localhost:8080/"
        },
        "id": "jyhwHg8FpOqM",
        "outputId": "fa1e57c1-8f6b-4a93-eb82-cf55ce259636"
      },
      "execution_count": null,
      "outputs": [
        {
          "output_type": "execute_result",
          "data": {
            "text/plain": [
              "3"
            ]
          },
          "metadata": {},
          "execution_count": 52
        }
      ]
    },
    {
      "cell_type": "code",
      "source": [
        "lista_0.index(10,1,6)"
      ],
      "metadata": {
        "colab": {
          "base_uri": "https://localhost:8080/",
          "height": 144
        },
        "id": "ALJPyDoDpXd2",
        "outputId": "e093707f-7cc3-4196-d304-14aa028e859f"
      },
      "execution_count": null,
      "outputs": [
        {
          "output_type": "error",
          "ename": "ValueError",
          "evalue": "10 is not in list",
          "traceback": [
            "\u001b[0;31m---------------------------------------------------------------------------\u001b[0m",
            "\u001b[0;31mValueError\u001b[0m                                Traceback (most recent call last)",
            "\u001b[0;32m<ipython-input-54-39938f902f12>\u001b[0m in \u001b[0;36m<cell line: 1>\u001b[0;34m()\u001b[0m\n\u001b[0;32m----> 1\u001b[0;31m \u001b[0mlista_0\u001b[0m\u001b[0;34m.\u001b[0m\u001b[0mindex\u001b[0m\u001b[0;34m(\u001b[0m\u001b[0;36m10\u001b[0m\u001b[0;34m,\u001b[0m\u001b[0;36m1\u001b[0m\u001b[0;34m,\u001b[0m\u001b[0;36m6\u001b[0m\u001b[0;34m)\u001b[0m\u001b[0;34m\u001b[0m\u001b[0;34m\u001b[0m\u001b[0m\n\u001b[0m",
            "\u001b[0;31mValueError\u001b[0m: 10 is not in list"
          ]
        }
      ]
    },
    {
      "cell_type": "code",
      "source": [
        "lista_0.index(10,1,7)"
      ],
      "metadata": {
        "colab": {
          "base_uri": "https://localhost:8080/"
        },
        "id": "JFjBvbeApcJU",
        "outputId": "c6c78719-26d7-4cba-9ed0-2be138adfe83"
      },
      "execution_count": null,
      "outputs": [
        {
          "output_type": "execute_result",
          "data": {
            "text/plain": [
              "6"
            ]
          },
          "metadata": {},
          "execution_count": 55
        }
      ]
    },
    {
      "cell_type": "markdown",
      "source": [
        "## Concatenar listas"
      ],
      "metadata": {
        "id": "4DPn-9fL6dtA"
      }
    },
    {
      "cell_type": "code",
      "source": [
        "marcas_favoritas = [\"apple\",\"hp\",\"ferrari\"]\n",
        "marcas_complementarias = [\"dell\",\"toyota\",\"coca_cola\"]"
      ],
      "metadata": {
        "id": "EjoCoi7cptfO"
      },
      "execution_count": null,
      "outputs": []
    },
    {
      "cell_type": "code",
      "source": [
        "%whos"
      ],
      "metadata": {
        "colab": {
          "base_uri": "https://localhost:8080/"
        },
        "id": "qLoyGjut663X",
        "outputId": "b8936863-ef40-42bd-ee1d-e7a1645d459a"
      },
      "execution_count": null,
      "outputs": [
        {
          "output_type": "stream",
          "name": "stdout",
          "text": [
            "Variable                 Type    Data/Info\n",
            "------------------------------------------\n",
            "datos                    list    n=5\n",
            "elemento                 str     AAA\n",
            "letras                   list    n=4\n",
            "lista_0                  list    n=9\n",
            "marcas_complementarias   list    n=3\n",
            "marcas_favoritas         list    n=3\n",
            "numeros                  list    n=4\n",
            "pares                    list    n=4\n"
          ]
        }
      ]
    },
    {
      "cell_type": "code",
      "source": [
        "print(f\"Mis marcas favoritas son \\n{marcas_favoritas}\")\n",
        "print(f\"\\nMis marcas complementarias son \\n{marcas_complementarias}\")"
      ],
      "metadata": {
        "colab": {
          "base_uri": "https://localhost:8080/"
        },
        "id": "yOAWvgV86-wr",
        "outputId": "c5f235d5-8f34-4080-fd82-9c344b401f3a"
      },
      "execution_count": null,
      "outputs": [
        {
          "output_type": "stream",
          "name": "stdout",
          "text": [
            "Mis marcas favoritas son \n",
            "['apple', 'hp', 'ferrari']\n",
            "\n",
            "Mis marcas complementarias son \n",
            "['dell', 'toyota', 'coca_cola']\n"
          ]
        }
      ]
    },
    {
      "cell_type": "code",
      "source": [
        "# El símbolo \"+\" me sirve para concatenar listas\n",
        "print(f\"Mi lista de marcas son \\n{marcas_favoritas + marcas_complementarias}\")\n",
        "print(f\"\\nMis marcas favoritas son \\n{marcas_favoritas}\")\n",
        "print(f\"\\nMis marcas complementarias son \\n{marcas_complementarias}\")"
      ],
      "metadata": {
        "colab": {
          "base_uri": "https://localhost:8080/"
        },
        "id": "wHsl9dqq7Nay",
        "outputId": "cca04dac-2818-4a0f-c2ce-42937301f7ea"
      },
      "execution_count": null,
      "outputs": [
        {
          "output_type": "stream",
          "name": "stdout",
          "text": [
            "Mi lista de marcas son \n",
            "['apple', 'hp', 'ferrari', 'dell', 'toyota', 'coca_cola']\n",
            "\n",
            "Mis marcas favoritas son \n",
            "['apple', 'hp', 'ferrari']\n",
            "\n",
            "Mis marcas complementarias son \n",
            "['dell', 'toyota', 'coca_cola']\n"
          ]
        }
      ]
    },
    {
      "cell_type": "code",
      "source": [
        "# El símbolo \"+\" me sirve para concatenar listas\n",
        "print(f\"Mi lista de valores numéricos es \\n{numeros + pares}\")\n",
        "print(f\"\\nMi lista de números es \\n{numeros}\")\n",
        "print(f\"\\nMi lista de números pares es \\n{pares}\")"
      ],
      "metadata": {
        "colab": {
          "base_uri": "https://localhost:8080/"
        },
        "id": "ZPKE-ryK7uOj",
        "outputId": "cc94c5ee-8413-4179-a715-e18ee95309e7"
      },
      "execution_count": null,
      "outputs": [
        {
          "output_type": "stream",
          "name": "stdout",
          "text": [
            "Mi lista de valores numéricos es \n",
            "[1, 2, 3, 4, 0, 2, 4, 6]\n",
            "\n",
            "Mi lista de números es \n",
            "[1, 2, 3, 4]\n",
            "\n",
            "Mi lista de números pares es \n",
            "[0, 2, 4, 6]\n"
          ]
        }
      ]
    },
    {
      "cell_type": "code",
      "source": [
        "# El comando extend me sirve para concatenar listas\n",
        "marcas_favoritas.extend(marcas_complementarias)\n",
        "print(f\"\\nMis marcas favoritas son \\n{marcas_favoritas}\")\n",
        "print(f\"\\nMis marcas complementarias son \\n{marcas_complementarias}\")"
      ],
      "metadata": {
        "colab": {
          "base_uri": "https://localhost:8080/"
        },
        "id": "zDmnZMjg81aK",
        "outputId": "c9715abc-8c37-4dec-c4b3-8e7beef766c2"
      },
      "execution_count": null,
      "outputs": [
        {
          "output_type": "stream",
          "name": "stdout",
          "text": [
            "Mi lista de marcas son \n",
            "None\n",
            "\n",
            "Mis marcas favoritas son \n",
            "['apple', 'hp', 'ferrari', 'dell', 'toyota', 'coca_cola']\n",
            "\n",
            "Mis marcas complementarias son \n",
            "['dell', 'toyota', 'coca_cola']\n"
          ]
        }
      ]
    },
    {
      "cell_type": "code",
      "source": [
        "# Listas numéricas\n",
        "\n",
        "numeros_ = [10, 20]\n",
        "\n",
        "numeros_2 = list(range(30,300,10))"
      ],
      "metadata": {
        "id": "AgTUki7D8P7C"
      },
      "execution_count": null,
      "outputs": []
    },
    {
      "cell_type": "code",
      "source": [
        "range(30,300,10)"
      ],
      "metadata": {
        "colab": {
          "base_uri": "https://localhost:8080/"
        },
        "id": "JqrAB-VS90nS",
        "outputId": "c68b244c-e919-4f00-ee98-dae7f94e9d34"
      },
      "execution_count": null,
      "outputs": [
        {
          "output_type": "execute_result",
          "data": {
            "text/plain": [
              "range(30, 300, 10)"
            ]
          },
          "metadata": {},
          "execution_count": 63
        }
      ]
    },
    {
      "cell_type": "code",
      "source": [
        "list(range(30,300,10))"
      ],
      "metadata": {
        "colab": {
          "base_uri": "https://localhost:8080/"
        },
        "id": "w8WoJh8Z91P9",
        "outputId": "70223445-1a47-454c-fc3f-3a087bbda97a"
      },
      "execution_count": null,
      "outputs": [
        {
          "output_type": "execute_result",
          "data": {
            "text/plain": [
              "[30,\n",
              " 40,\n",
              " 50,\n",
              " 60,\n",
              " 70,\n",
              " 80,\n",
              " 90,\n",
              " 100,\n",
              " 110,\n",
              " 120,\n",
              " 130,\n",
              " 140,\n",
              " 150,\n",
              " 160,\n",
              " 170,\n",
              " 180,\n",
              " 190,\n",
              " 200,\n",
              " 210,\n",
              " 220,\n",
              " 230,\n",
              " 240,\n",
              " 250,\n",
              " 260,\n",
              " 270,\n",
              " 280,\n",
              " 290]"
            ]
          },
          "metadata": {},
          "execution_count": 64
        }
      ]
    },
    {
      "cell_type": "code",
      "source": [
        "type(numeros_2)"
      ],
      "metadata": {
        "colab": {
          "base_uri": "https://localhost:8080/"
        },
        "id": "NGdjtClD-Xko",
        "outputId": "e14e5ffd-4137-4c3a-e640-695538dc456a"
      },
      "execution_count": null,
      "outputs": [
        {
          "output_type": "execute_result",
          "data": {
            "text/plain": [
              "list"
            ]
          },
          "metadata": {},
          "execution_count": 66
        }
      ]
    },
    {
      "cell_type": "code",
      "source": [
        "print(f\"La lista de valores numéricos es \\n{numeros_}\")\n",
        "numeros_.extend(numeros_2)\n",
        "print(f\"\\nLa lista de valores numéricos es \\n{numeros_}\")\n"
      ],
      "metadata": {
        "colab": {
          "base_uri": "https://localhost:8080/"
        },
        "id": "Tcs8lfdQ-reo",
        "outputId": "6b5bad69-b1a5-4142-b42a-ae0785b7b9d0"
      },
      "execution_count": null,
      "outputs": [
        {
          "output_type": "stream",
          "name": "stdout",
          "text": [
            "La lista de valores numéricos es \n",
            "[10, 20]\n",
            "\n",
            "La lista de valores numéricos es \n",
            "[10, 20, 30, 40, 50, 60, 70, 80, 90, 100, 110, 120, 130, 140, 150, 160, 170, 180, 190, 200, 210, 220, 230, 240, 250, 260, 270, 280, 290]\n"
          ]
        }
      ]
    },
    {
      "cell_type": "markdown",
      "source": [
        "## Operaciones numéricas con las listas"
      ],
      "metadata": {
        "id": "BPitXKz__SGc"
      }
    },
    {
      "cell_type": "code",
      "source": [
        "# Cuantificar la cantidad de elementos de una lista\n",
        "len(numeros_)"
      ],
      "metadata": {
        "colab": {
          "base_uri": "https://localhost:8080/"
        },
        "id": "ZDIkwlPT-h0F",
        "outputId": "55d5fc98-195c-4d7e-f21c-a72e5c3fb251"
      },
      "execution_count": null,
      "outputs": [
        {
          "output_type": "execute_result",
          "data": {
            "text/plain": [
              "29"
            ]
          },
          "metadata": {},
          "execution_count": 68
        }
      ]
    },
    {
      "cell_type": "code",
      "source": [
        "print(f\"La suma de los elementos de la lista es \\n{sum(numeros_)}\")\n",
        "print(f\"El promedio de los elementos de la lista es \\n{sum(numeros_)/len(numeros_)}\")\n",
        "print(f\"El mínimo de los elementos de la lista es \\n{min(numeros_)}\")\n",
        "print(f\"El máximo de los elementos de la lista es \\n{max(numeros_)}\")"
      ],
      "metadata": {
        "colab": {
          "base_uri": "https://localhost:8080/"
        },
        "id": "ZP4I3q3x_X6I",
        "outputId": "189661a2-b0e5-4be7-d3d8-9e665a53ee9f"
      },
      "execution_count": null,
      "outputs": [
        {
          "output_type": "stream",
          "name": "stdout",
          "text": [
            "La suma de los elementos de la lista es \n",
            "4350\n",
            "El promedio de los elementos de la lista es \n",
            "150.0\n",
            "El mínimo de los elementos de la lista es \n",
            "10\n",
            "El máximo de los elementos de la lista es \n",
            "290\n"
          ]
        }
      ]
    },
    {
      "cell_type": "markdown",
      "source": [
        "## Lista de listas"
      ],
      "metadata": {
        "id": "HV5KgwefDbNK"
      }
    },
    {
      "cell_type": "code",
      "source": [
        "a = [1,2,3]\n",
        "b = [4,5,6]\n",
        "c = [7,8,9]\n",
        "r = [a, b, c]"
      ],
      "metadata": {
        "id": "sFStIXJk_9eW"
      },
      "execution_count": null,
      "outputs": []
    },
    {
      "cell_type": "code",
      "source": [
        "print(f\"La lista a es \\n{a}\")\n",
        "print(f\"La lista b es \\n{b}\")\n",
        "print(f\"La lista c es \\n{c}\")\n",
        "print(f\"\\nLa lista de listas es \\n{r}\")"
      ],
      "metadata": {
        "colab": {
          "base_uri": "https://localhost:8080/"
        },
        "id": "3ZYMmbipDpFE",
        "outputId": "c2f8e3d5-eec2-45e1-def4-85b6606f7b8d"
      },
      "execution_count": null,
      "outputs": [
        {
          "output_type": "stream",
          "name": "stdout",
          "text": [
            "La lista a es \n",
            "[1, 2, 3]\n",
            "La lista b es \n",
            "[4, 5, 6]\n",
            "La lista c es \n",
            "[7, 8, 9]\n",
            "\n",
            "La lista de listas es \n",
            "[[1, 2, 3], [4, 5, 6], [7, 8, 9]]\n"
          ]
        }
      ]
    },
    {
      "cell_type": "code",
      "source": [],
      "metadata": {
        "id": "C0_0fZFiDyDY"
      },
      "execution_count": null,
      "outputs": []
    }
  ]
}